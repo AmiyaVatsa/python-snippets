{
 "cells": [
  {
   "cell_type": "code",
   "execution_count": 40,
   "id": "c5f8ccce-78d3-40aa-aeb3-dfc3b9e5feeb",
   "metadata": {},
   "outputs": [
    {
     "name": "stdout",
     "output_type": "stream",
     "text": [
      "['APPLE', 'BANANA', 'CHERRY', 'GRAPES', 'ORANGE']\n",
      "['hello', 'hello', 'hello', 'hello', 'hello']\n"
     ]
    }
   ],
   "source": [
    "list1 = [\"Apple\", \"Banana\", \"Cherry\", \"Grapes\", \"Orange\"]\n",
    "newlist = [x.upper() for x in list1]\n",
    "print(newlist)\n",
    "\n",
    "hello = [\"hello\" for x in list1]\n",
    "print(hello)"
   ]
  },
  {
   "cell_type": "code",
   "execution_count": 41,
   "id": "e46b872c-92ea-4b57-ae2f-d91089942bd7",
   "metadata": {},
   "outputs": [
    {
     "name": "stdout",
     "output_type": "stream",
     "text": [
      "['Apple', 'Pineapple', 'Cherry', 'Grapes', 'Orange']\n"
     ]
    }
   ],
   "source": [
    "list2 =[x if x != \"Banana\" else \"Pineapple\" for x in list1]\n",
    "print(list2)"
   ]
  },
  {
   "cell_type": "code",
   "execution_count": 42,
   "id": "9a189f77-d7f8-4490-ab73-3f6b464b0606",
   "metadata": {},
   "outputs": [
    {
     "name": "stdout",
     "output_type": "stream",
     "text": [
      "['Apple', 'Cherry', 'Grapes', 'Orange', 'Pineapple']\n"
     ]
    }
   ],
   "source": [
    "list2.sort()\n",
    "print(list2)"
   ]
  },
  {
   "cell_type": "code",
   "execution_count": 43,
   "id": "9bdfa588-d3b9-4714-81ff-1cf1b51b46c8",
   "metadata": {},
   "outputs": [
    {
     "data": {
      "text/plain": [
       "['Pineapple', 'Orange', 'Grapes', 'Cherry', 'Apple']"
      ]
     },
     "execution_count": 43,
     "metadata": {},
     "output_type": "execute_result"
    }
   ],
   "source": [
    "list2.sort(reverse = True)\n",
    "list2"
   ]
  },
  {
   "cell_type": "code",
   "execution_count": 44,
   "id": "b4ea0f0c-2798-4943-b165-fbc24146560e",
   "metadata": {},
   "outputs": [
    {
     "data": {
      "text/plain": [
       "['Apple', 'Cherry', 'Grapes', 'Orange', 'Pineapple']"
      ]
     },
     "execution_count": 44,
     "metadata": {},
     "output_type": "execute_result"
    }
   ],
   "source": [
    "list2.reverse()\n",
    "list2"
   ]
  },
  {
   "cell_type": "code",
   "execution_count": 45,
   "id": "78ad6c11-5871-4cc5-acf3-3d1ec3144aab",
   "metadata": {},
   "outputs": [
    {
     "data": {
      "text/plain": [
       "[-90, 76, 9, 5, 4]"
      ]
     },
     "execution_count": 45,
     "metadata": {},
     "output_type": "execute_result"
    }
   ],
   "source": [
    "list3 = [4, 5, 9, 76, -90]\n",
    "list3.reverse()\n",
    "list3"
   ]
  },
  {
   "cell_type": "code",
   "execution_count": 46,
   "id": "495d7b17-c6c8-4b6b-94fa-b1076d1babef",
   "metadata": {},
   "outputs": [
    {
     "data": {
      "text/plain": [
       "['Apricot', 'Banana', 'Papaya', 'apple', 'orange']"
      ]
     },
     "execution_count": 46,
     "metadata": {},
     "output_type": "execute_result"
    }
   ],
   "source": [
    "list4 = [\"apple\", \"Banana\", \"Apricot\", \"orange\", \"Papaya\"]\n",
    "list4.sort()\n",
    "list4"
   ]
  },
  {
   "cell_type": "code",
   "execution_count": 47,
   "id": "a925a66d-b991-43bc-9cbf-aad752bf0ea7",
   "metadata": {},
   "outputs": [],
   "source": [
    "list4.sort(reverse = True)"
   ]
  },
  {
   "cell_type": "code",
   "execution_count": 48,
   "id": "9da315b4-7cb6-4ba0-9551-b1a3341c00e3",
   "metadata": {},
   "outputs": [
    {
     "data": {
      "text/plain": [
       "['orange', 'apple', 'Papaya', 'Banana', 'Apricot']"
      ]
     },
     "execution_count": 48,
     "metadata": {},
     "output_type": "execute_result"
    }
   ],
   "source": [
    "list4\n"
   ]
  },
  {
   "cell_type": "code",
   "execution_count": 49,
   "id": "c8e51614-a089-48da-bc2e-48fef78a388a",
   "metadata": {},
   "outputs": [
    {
     "data": {
      "text/plain": [
       "['Apricot', 'Banana', 'Papaya', 'apple', 'orange']"
      ]
     },
     "execution_count": 49,
     "metadata": {},
     "output_type": "execute_result"
    }
   ],
   "source": [
    "list4.reverse()\n",
    "list4"
   ]
  },
  {
   "cell_type": "code",
   "execution_count": 50,
   "id": "3a7bc6c0-81db-41b2-aa29-07cad4d9a4be",
   "metadata": {},
   "outputs": [
    {
     "name": "stdout",
     "output_type": "stream",
     "text": [
      "[-90, 76, 10, 9, 5, 4]\n"
     ]
    }
   ],
   "source": [
    "list3.insert(2,10)\n",
    "print(list3)"
   ]
  },
  {
   "cell_type": "code",
   "execution_count": 51,
   "id": "990e41d8-5faa-4aa3-89c0-2c0e5e9e0a14",
   "metadata": {},
   "outputs": [
    {
     "data": {
      "text/plain": [
       "10"
      ]
     },
     "execution_count": 51,
     "metadata": {},
     "output_type": "execute_result"
    }
   ],
   "source": [
    "list3.pop(2) #index"
   ]
  },
  {
   "cell_type": "code",
   "execution_count": 52,
   "id": "a46d8dd9-849e-473c-9e44-9fc88010299d",
   "metadata": {},
   "outputs": [
    {
     "data": {
      "text/plain": [
       "[-90, 76, 9, 4]"
      ]
     },
     "execution_count": 52,
     "metadata": {},
     "output_type": "execute_result"
    }
   ],
   "source": [
    "list3.remove(5)\n",
    "list3 #item"
   ]
  },
  {
   "cell_type": "code",
   "execution_count": 53,
   "id": "cc0ef5d6-4cd2-4daf-b28b-dd7f20926d34",
   "metadata": {},
   "outputs": [
    {
     "name": "stdout",
     "output_type": "stream",
     "text": [
      "['apple', 'Apricot', 'Banana', 'orange', 'Papaya']\n",
      "['Apricot', 'Banana', 'Papaya', 'apple', 'orange']\n"
     ]
    }
   ],
   "source": [
    "mylist = [\"apple\", \"Banana\", \"Apricot\", \"orange\", \"Papaya\"]\n",
    "mylist.sort(key = str.lower)\n",
    "print(mylist)\n",
    "mylist = [\"apple\", \"Banana\", \"Apricot\", \"orange\", \"Papaya\"]\n",
    "mylist.sort()\n",
    "print(mylist)"
   ]
  },
  {
   "cell_type": "code",
   "execution_count": 54,
   "id": "9562cd42-0b9d-4c9a-b61a-4baf5fc65c0f",
   "metadata": {},
   "outputs": [
    {
     "name": "stdout",
     "output_type": "stream",
     "text": [
      "[1, 2, 3, 4, 5, 6, 7, 8, 9, 10]\n"
     ]
    }
   ],
   "source": [
    "list1 = [1,2,3,4,5]\n",
    "list2 = [6,7,8,9,10]\n",
    "print(list1 + list2)"
   ]
  },
  {
   "cell_type": "code",
   "execution_count": 55,
   "id": "8ec5d092-45d2-4d03-a569-1e0de4b37d82",
   "metadata": {},
   "outputs": [
    {
     "name": "stdout",
     "output_type": "stream",
     "text": [
      "[6, 7, 8, 9, 10, 1, 2, 3, 4, 5]\n"
     ]
    }
   ],
   "source": [
    "list3 = list2\n",
    "for x in list1:\n",
    "    list3.append(x)\n",
    "print(list3)"
   ]
  },
  {
   "cell_type": "code",
   "execution_count": 56,
   "id": "373c5401-f378-44e8-8b7d-139139c5d63a",
   "metadata": {},
   "outputs": [],
   "source": [
    "list3.clear()"
   ]
  },
  {
   "cell_type": "code",
   "execution_count": 57,
   "id": "38ff72c1-38bd-4c8f-95e3-977269bd553a",
   "metadata": {},
   "outputs": [
    {
     "data": {
      "text/plain": [
       "[0, 1, 2, 3, 4, 5, 6, 7, 8, 9, 10, 11, 12, 13, 14, 15, 16, 17, 18, 19]"
      ]
     },
     "execution_count": 57,
     "metadata": {},
     "output_type": "execute_result"
    }
   ],
   "source": [
    "newlist = [x for x in range(20)]\n",
    "newlist"
   ]
  },
  {
   "cell_type": "code",
   "execution_count": 58,
   "id": "eb2bdaf3-8c1d-492b-a6d9-7bb4821a9991",
   "metadata": {},
   "outputs": [
    {
     "name": "stdout",
     "output_type": "stream",
     "text": [
      "0\n",
      "1\n",
      "2\n",
      "3\n",
      "4\n",
      "5\n",
      "6\n",
      "7\n",
      "8\n",
      "9\n",
      "10\n",
      "11\n",
      "12\n",
      "13\n",
      "14\n",
      "15\n",
      "16\n",
      "17\n",
      "18\n",
      "19\n"
     ]
    }
   ],
   "source": [
    "for x in range(len(newlist)):\n",
    "    print(x)"
   ]
  },
  {
   "cell_type": "code",
   "execution_count": 59,
   "id": "2978dadd-dbd4-4f58-9a7b-43816415a835",
   "metadata": {},
   "outputs": [
    {
     "name": "stdout",
     "output_type": "stream",
     "text": [
      "0\n",
      "1\n",
      "2\n",
      "3\n",
      "4\n",
      "5\n",
      "6\n",
      "7\n",
      "8\n",
      "9\n",
      "10\n",
      "11\n",
      "12\n",
      "13\n",
      "14\n",
      "15\n",
      "16\n",
      "17\n",
      "18\n",
      "19\n"
     ]
    },
    {
     "data": {
      "text/plain": [
       "[None,\n",
       " None,\n",
       " None,\n",
       " None,\n",
       " None,\n",
       " None,\n",
       " None,\n",
       " None,\n",
       " None,\n",
       " None,\n",
       " None,\n",
       " None,\n",
       " None,\n",
       " None,\n",
       " None,\n",
       " None,\n",
       " None,\n",
       " None,\n",
       " None,\n",
       " None]"
      ]
     },
     "execution_count": 59,
     "metadata": {},
     "output_type": "execute_result"
    }
   ],
   "source": [
    "[print(x) for x in newlist]"
   ]
  },
  {
   "cell_type": "code",
   "execution_count": 60,
   "id": "d0c61f20-6474-4b63-8e0d-df62851c329e",
   "metadata": {},
   "outputs": [
    {
     "name": "stdout",
     "output_type": "stream",
     "text": [
      "[0, 1, 2, 3, 4, 5, 6, 7, 8, 9, 10, 11, 12, 13, 14, 15, 16, 17, 18, 19]\n",
      "[0, 1, 2, 3, 4, 5, 6, 7, 8, 9, 10, 11, 12, 13, 14, 15, 16, 17, 18, 19]\n",
      "[0, 1, 2, 3, 4, 5, 6, 7, 8, 9, 10, 11, 12, 13, 14, 15, 16, 17, 18, 19]\n",
      "[0, 1, 2, 3, 4, 5, 6, 7, 8, 9, 10, 11, 12, 13, 14, 15, 16, 17, 18, 19]\n",
      "[0, 1, 2, 3, 4, 5, 6, 7, 8, 9, 10, 11, 12, 13, 14, 15, 16, 17, 18, 19]\n",
      "[0, 1, 2, 3, 4, 5, 6, 7, 8, 9, 10, 11, 12, 13, 14, 15, 16, 17, 18, 19]\n",
      "[0, 1, 2, 3, 4, 5, 6, 7, 8, 9, 10, 11, 12, 13, 14, 15, 16, 17, 18, 19]\n",
      "[0, 1, 2, 3, 4, 5, 6, 7, 8, 9, 10, 11, 12, 13, 14, 15, 16, 17, 18, 19]\n",
      "[0, 1, 2, 3, 4, 5, 6, 7, 8, 9, 10, 11, 12, 13, 14, 15, 16, 17, 18, 19]\n",
      "[0, 1, 2, 3, 4, 5, 6, 7, 8, 9, 10, 11, 12, 13, 14, 15, 16, 17, 18, 19]\n",
      "[0, 1, 2, 3, 4, 5, 6, 7, 8, 9, 10, 11, 12, 13, 14, 15, 16, 17, 18, 19]\n",
      "[0, 1, 2, 3, 4, 5, 6, 7, 8, 9, 10, 11, 12, 13, 14, 15, 16, 17, 18, 19]\n",
      "[0, 1, 2, 3, 4, 5, 6, 7, 8, 9, 10, 11, 12, 13, 14, 15, 16, 17, 18, 19]\n",
      "[0, 1, 2, 3, 4, 5, 6, 7, 8, 9, 10, 11, 12, 13, 14, 15, 16, 17, 18, 19]\n",
      "[0, 1, 2, 3, 4, 5, 6, 7, 8, 9, 10, 11, 12, 13, 14, 15, 16, 17, 18, 19]\n",
      "[0, 1, 2, 3, 4, 5, 6, 7, 8, 9, 10, 11, 12, 13, 14, 15, 16, 17, 18, 19]\n",
      "[0, 1, 2, 3, 4, 5, 6, 7, 8, 9, 10, 11, 12, 13, 14, 15, 16, 17, 18, 19]\n",
      "[0, 1, 2, 3, 4, 5, 6, 7, 8, 9, 10, 11, 12, 13, 14, 15, 16, 17, 18, 19]\n",
      "[0, 1, 2, 3, 4, 5, 6, 7, 8, 9, 10, 11, 12, 13, 14, 15, 16, 17, 18, 19]\n",
      "[0, 1, 2, 3, 4, 5, 6, 7, 8, 9, 10, 11, 12, 13, 14, 15, 16, 17, 18, 19]\n"
     ]
    }
   ],
   "source": [
    "for x in range(len(newlist)):\n",
    "    print(newlist)"
   ]
  },
  {
   "cell_type": "code",
   "execution_count": 61,
   "id": "80042503-d61e-4fc1-8486-f080c56928be",
   "metadata": {},
   "outputs": [
    {
     "data": {
      "text/plain": [
       "[0, 1, 2, 3, 4]"
      ]
     },
     "execution_count": 61,
     "metadata": {},
     "output_type": "execute_result"
    }
   ],
   "source": [
    "list4 = [x for x in range(10) if x < 5]\n",
    "list4"
   ]
  },
  {
   "cell_type": "code",
   "execution_count": 62,
   "id": "34aab3cf-1409-4d3b-a0d8-19ea236dedb2",
   "metadata": {},
   "outputs": [
    {
     "name": "stdout",
     "output_type": "stream",
     "text": [
      "<class 'tuple'>\n"
     ]
    }
   ],
   "source": [
    "tup = (\"cherry\", \"banana\", \"apple\")\n",
    "print(type(tup))"
   ]
  },
  {
   "cell_type": "code",
   "execution_count": 63,
   "id": "3ae9ffdd-3eae-4633-b1c1-b5016e212835",
   "metadata": {},
   "outputs": [
    {
     "name": "stdout",
     "output_type": "stream",
     "text": [
      "<class 'tuple'>\n"
     ]
    }
   ],
   "source": [
    "tup2 = (\"cherry\",)\n",
    "print(type(tup2))"
   ]
  },
  {
   "cell_type": "code",
   "execution_count": 64,
   "id": "450aa34d-f7ea-4000-80ec-026ebe1b7fd5",
   "metadata": {},
   "outputs": [
    {
     "name": "stdout",
     "output_type": "stream",
     "text": [
      "('Marie', 'Anne', 45)\n"
     ]
    }
   ],
   "source": [
    "tup3 = (\"Marie\", \"Anne\", 45)\n",
    "print(tup3)"
   ]
  },
  {
   "cell_type": "code",
   "execution_count": 65,
   "id": "f52bca74-543f-4bcd-a621-92d8a35a44c5",
   "metadata": {},
   "outputs": [
    {
     "name": "stdout",
     "output_type": "stream",
     "text": [
      "(2, 4)\n"
     ]
    }
   ],
   "source": [
    "tup4 = (1,2,4,5,7)\n",
    "print(tup4[1:3])"
   ]
  },
  {
   "cell_type": "code",
   "execution_count": 66,
   "id": "0fd3a637-dcd5-4dcf-9c1a-fa1dc546285b",
   "metadata": {},
   "outputs": [
    {
     "name": "stdout",
     "output_type": "stream",
     "text": [
      "2\n"
     ]
    }
   ],
   "source": [
    "print(tup4.index(4))"
   ]
  },
  {
   "cell_type": "code",
   "execution_count": 67,
   "id": "e5869cf7-045b-42c7-9855-a73ae674ae18",
   "metadata": {},
   "outputs": [
    {
     "name": "stdout",
     "output_type": "stream",
     "text": [
      "['Samantha', 'Marie Anne', 'Belluci'] <class 'list'>\n"
     ]
    }
   ],
   "source": [
    "tup5 = (\"Samantha\", \"Monica\", \"Belluci\")\n",
    "list5 = list(tup5)\n",
    "list5[1] = \"Marie Anne\"\n",
    "print(list5, type(list5))"
   ]
  },
  {
   "cell_type": "code",
   "execution_count": 68,
   "id": "ba08da6e-0728-4a27-9ffd-0b1263c643f5",
   "metadata": {},
   "outputs": [
    {
     "name": "stdout",
     "output_type": "stream",
     "text": [
      "['Samantha', 'Marie Anne', 'Belluci', 'Brittany']\n"
     ]
    },
    {
     "data": {
      "text/plain": [
       "['Samantha', 'Belluci', 'Brittany']"
      ]
     },
     "execution_count": 68,
     "metadata": {},
     "output_type": "execute_result"
    }
   ],
   "source": [
    "list5.append(\"Brittany\")\n",
    "print(list5)\n",
    "list5.remove(\"Marie Anne\")\n",
    "list5"
   ]
  },
  {
   "cell_type": "code",
   "execution_count": 70,
   "id": "d52f7b71-5a86-45b8-b37c-1b5890877ba8",
   "metadata": {},
   "outputs": [
    {
     "name": "stdout",
     "output_type": "stream",
     "text": [
      "Samantha\n",
      "Monica\n",
      "Belluci\n"
     ]
    }
   ],
   "source": [
    "for x in range(len(tup5)):\n",
    "    print(tup5[x])"
   ]
  },
  {
   "cell_type": "code",
   "execution_count": 71,
   "id": "d1319269-6e14-4ac2-a3d2-acd2d747d3a5",
   "metadata": {},
   "outputs": [
    {
     "name": "stdout",
     "output_type": "stream",
     "text": [
      "1\n",
      "2\n",
      "3\n",
      "4\n",
      "5\n",
      "6\n",
      "7\n"
     ]
    }
   ],
   "source": [
    "tup = (1, 2, 3, 4, 5, 6, 7)\n",
    "i = 0\n",
    "while i < len(tup):\n",
    "    print(tup[i])\n",
    "    i += 1\n"
   ]
  },
  {
   "cell_type": "code",
   "execution_count": 72,
   "id": "12101aa1-22cd-47ad-87c2-372069874b59",
   "metadata": {},
   "outputs": [
    {
     "data": {
      "text/plain": [
       "(1, 2, 3, 4, 5, 6, 7, 'Samantha', 'Monica', 'Belluci')"
      ]
     },
     "execution_count": 72,
     "metadata": {},
     "output_type": "execute_result"
    }
   ],
   "source": [
    "tup6 = tup + tup5\n",
    "tup6"
   ]
  },
  {
   "cell_type": "code",
   "execution_count": 73,
   "id": "64b1ce34-f3d3-468d-9d8f-128c25d2442a",
   "metadata": {},
   "outputs": [
    {
     "data": {
      "text/plain": [
       "(1, 2, 3, 4, 5, 6, 7, 1, 2, 3, 4, 5, 6, 7)"
      ]
     },
     "execution_count": 73,
     "metadata": {},
     "output_type": "execute_result"
    }
   ],
   "source": [
    "tup7 = tup * 2\n",
    "tup7"
   ]
  },
  {
   "cell_type": "code",
   "execution_count": 78,
   "id": "cfa6e7f7-0707-4afa-a578-d79a895484c7",
   "metadata": {},
   "outputs": [
    {
     "name": "stdout",
     "output_type": "stream",
     "text": [
      "True\n"
     ]
    }
   ],
   "source": [
    "tup7 = (30 , 40)\n",
    "exists = 30 in tup7\n",
    "print(exists)"
   ]
  },
  {
   "cell_type": "code",
   "execution_count": 79,
   "id": "77f3de55-913b-48e8-8b53-9ec8d2f07a61",
   "metadata": {},
   "outputs": [
    {
     "name": "stdout",
     "output_type": "stream",
     "text": [
      "40\n",
      "30\n"
     ]
    }
   ],
   "source": [
    "print(max(tup7))\n",
    "print(min(tup7))"
   ]
  },
  {
   "cell_type": "code",
   "execution_count": 80,
   "id": "d29897e8-c411-48ea-b735-fa4a5762d7f9",
   "metadata": {},
   "outputs": [
    {
     "name": "stdout",
     "output_type": "stream",
     "text": [
      "18\n"
     ]
    }
   ],
   "source": [
    "a = 5\n",
    "b = 6\n",
    "c = 7\n",
    "tup = (a,b,c)\n",
    "def f(a):\n",
    "    p, q, r = a\n",
    "    return p + q + r\n",
    "print(f(tup))"
   ]
  },
  {
   "cell_type": "code",
   "execution_count": 81,
   "id": "379099a0-d7b2-455f-9d79-b097b0ef4da9",
   "metadata": {},
   "outputs": [
    {
     "name": "stdout",
     "output_type": "stream",
     "text": [
      "(4, 5, 6)\n"
     ]
    }
   ],
   "source": [
    "tup1 = (1,2,3,4,5,6)\n",
    "tup2 = (4,5,6,7,8)\n",
    "def common(tup1, tup2):\n",
    "    return tuple(x for x in tup1 if x in tup2)\n",
    "print(common(tup1,tup2))"
   ]
  },
  {
   "cell_type": "code",
   "execution_count": 82,
   "id": "3e109810-d296-4dab-9bbf-c552b95068d7",
   "metadata": {},
   "outputs": [],
   "source": [
    "def merge_and_remove_duplicate(tup1, tup2):\n",
    "    return tuple(set(tup1).union(tup2))"
   ]
  },
  {
   "cell_type": "code",
   "execution_count": 83,
   "id": "10ab686b-01b1-4258-b395-ddcc446ab311",
   "metadata": {},
   "outputs": [
    {
     "data": {
      "text/plain": [
       "(1, 2, 3, 4, 5, 6, 7, 8)"
      ]
     },
     "execution_count": 83,
     "metadata": {},
     "output_type": "execute_result"
    }
   ],
   "source": [
    "merge_and_remove_duplicate(tup1, tup2)"
   ]
  },
  {
   "cell_type": "code",
   "execution_count": 85,
   "id": "afc65fd8-a264-4d80-814d-522f68c23eaa",
   "metadata": {},
   "outputs": [
    {
     "name": "stdout",
     "output_type": "stream",
     "text": [
      "0 5\n"
     ]
    }
   ],
   "source": [
    "# to find first and last element\n",
    "\n",
    "tup = (0,1,2,3,4,5)\n",
    "def first_and_last(tup):\n",
    "    return tup[0], tup[-1]\n",
    "f, l = first_and_last(tup)\n",
    "print(f, l)"
   ]
  },
  {
   "cell_type": "code",
   "execution_count": null,
   "id": "ebdbc935-8d4c-4654-bff7-a3529a74a95c",
   "metadata": {},
   "outputs": [],
   "source": []
  }
 ],
 "metadata": {
  "kernelspec": {
   "display_name": "Python 3 (ipykernel)",
   "language": "python",
   "name": "python3"
  },
  "language_info": {
   "codemirror_mode": {
    "name": "ipython",
    "version": 3
   },
   "file_extension": ".py",
   "mimetype": "text/x-python",
   "name": "python",
   "nbconvert_exporter": "python",
   "pygments_lexer": "ipython3",
   "version": "3.11.7"
  }
 },
 "nbformat": 4,
 "nbformat_minor": 5
}
